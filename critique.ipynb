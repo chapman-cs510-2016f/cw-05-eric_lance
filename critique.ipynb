{
 "cells": [
  {
   "cell_type": "markdown",
   "metadata": {
    "collapsed": false
   },
   "source": [
    "# Critique of CW4\n",
    "\n",
    "The code could have some better inline comments to make it easier to understand how and why the code is doing what it's doing. In particular, explaining why the square root is used. Docstring could be longer and more detailed following industry standards. Syntax in comments should be correct. The format of the test functions is nice and easy to read. Test functions shouldn't be included in the main function.\n",
    "- Eric Freda\n",
    "\n",
    "The code is well documented with both docstrings and with in-line commentary.  The code is well organized and easy to see the layout.  The code is very compact, but might be a little clearer if it were broken out into a few more lines:  clever vs. clear.\n",
    "\n",
    "The code could be made more efficient in the eratosthenes() function, as it checks remainder in cases where the divisor is greater than the numerator as well as having to check if the divisor is being divided by itself.\n",
    "\n",
    "There could be more testing functions, to check a wider range of inputs, such as negative numbers and text strings.  Also, it would be good to add an 'expected'/'actual' error string for the tests so that we know which test and why the test failed.\n",
    "- Lance Clifner"
   ]
  },
  {
   "cell_type": "code",
   "execution_count": null,
   "metadata": {
    "collapsed": true
   },
   "outputs": [],
   "source": []
  }
 ],
 "metadata": {
  "kernelspec": {
   "display_name": "Python 2 (SageMath)",
   "language": "python",
   "name": "python2"
  },
  "language_info": {
   "codemirror_mode": {
    "name": "ipython",
    "version": 2
   },
   "file_extension": ".py",
   "mimetype": "text/x-python",
   "name": "python",
   "nbconvert_exporter": "python",
   "pygments_lexer": "ipython2",
   "version": "2.7.10"
  }
 },
 "nbformat": 4,
 "nbformat_minor": 0
}
